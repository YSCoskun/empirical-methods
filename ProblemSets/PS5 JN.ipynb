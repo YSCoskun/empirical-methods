{
 "cells": [
  {
   "cell_type": "code",
   "execution_count": 129,
   "id": "posted-defendant",
   "metadata": {},
   "outputs": [],
   "source": [
    "import Pkg"
   ]
  },
  {
   "cell_type": "code",
   "execution_count": 130,
   "id": "thousand-flashing",
   "metadata": {},
   "outputs": [],
   "source": [
    "# Pkg.add(\"Optim\")"
   ]
  },
  {
   "cell_type": "code",
   "execution_count": 131,
   "id": "patent-adolescent",
   "metadata": {},
   "outputs": [],
   "source": [
    "# Pkg.add(\"CSV\")"
   ]
  },
  {
   "cell_type": "code",
   "execution_count": 132,
   "id": "soviet-mercy",
   "metadata": {},
   "outputs": [],
   "source": [
    "# Pkg.add(\"DataFrames\")"
   ]
  },
  {
   "cell_type": "code",
   "execution_count": 133,
   "id": "entertaining-fisher",
   "metadata": {},
   "outputs": [],
   "source": [
    "# Pkg.add(\"DelimitedFiles\")"
   ]
  },
  {
   "cell_type": "code",
   "execution_count": 134,
   "id": "tough-helmet",
   "metadata": {},
   "outputs": [],
   "source": [
    "using CSV"
   ]
  },
  {
   "cell_type": "code",
   "execution_count": 135,
   "id": "liked-subdivision",
   "metadata": {},
   "outputs": [],
   "source": [
    "using DataFrames"
   ]
  },
  {
   "cell_type": "code",
   "execution_count": 136,
   "id": "special-monitoring",
   "metadata": {},
   "outputs": [],
   "source": [
    "using DelimitedFiles"
   ]
  },
  {
   "cell_type": "code",
   "execution_count": 137,
   "id": "systematic-infrastructure",
   "metadata": {},
   "outputs": [],
   "source": [
    "using Optim"
   ]
  },
  {
   "cell_type": "code",
   "execution_count": 138,
   "id": "judicial-syndicate",
   "metadata": {
    "scrolled": true
   },
   "outputs": [],
   "source": [
    "# m = CSV.read(\"Xfiles2.csv\", header=0, delim=';') |> Matrix{Float64} is something wrong?"
   ]
  },
  {
   "cell_type": "code",
   "execution_count": 139,
   "id": "civic-fifteen",
   "metadata": {
    "scrolled": true
   },
   "outputs": [],
   "source": [
    "# m = Matrix{Float64}(CSV.read(\"C:/Users/cosku/Desktop/Xfiles2.csv\", header=0, delim=';')) is something wrong?"
   ]
  },
  {
   "cell_type": "code",
   "execution_count": 157,
   "id": "global-prague",
   "metadata": {},
   "outputs": [],
   "source": [
    "X = readdlm(\"C:/Users/cosku/Desktop/Xfiles2.csv\", ';', Float64);"
   ]
  },
  {
   "cell_type": "code",
   "execution_count": 158,
   "id": "finnish-atlanta",
   "metadata": {},
   "outputs": [],
   "source": [
    "y = readdlm(\"C:/Users/cosku/Desktop/Yfiles2.csv\", ';', Float64);"
   ]
  },
  {
   "cell_type": "code",
   "execution_count": 161,
   "id": "express-automation",
   "metadata": {},
   "outputs": [
    {
     "data": {
      "text/plain": [
       "LnL (generic function with 2 methods)"
      ]
     },
     "execution_count": 161,
     "metadata": {},
     "output_type": "execute_result"
    }
   ],
   "source": [
    "function LnL( bethas :: Float64 )\n",
    "\n",
    "    sum = 0; \n",
    "\n",
    "    for i in n\n",
    "\n",
    "    sum += -exp( X[i,:]'*bethas) + y[i] * X[i,:]' * bethas - log(factorial(Int(y[i])));\n",
    "\n",
    "    end\n",
    "\n",
    "    LnL = -sum;\n",
    "\n",
    "end"
   ]
  },
  {
   "cell_type": "code",
   "execution_count": 165,
   "id": "administrative-postcard",
   "metadata": {},
   "outputs": [
    {
     "ename": "LoadError",
     "evalue": "MethodError: no method matching exp(::LinearAlgebra.Adjoint{Float64, Vector{Float64}})\n\u001b[0mClosest candidates are:\n\u001b[0m  exp(\u001b[91m::StridedMatrix{var\"#s832\"} where var\"#s832\"<:Union{Float32, Float64, ComplexF32, ComplexF64}\u001b[39m) at C:\\buildbot\\worker\\package_win64\\build\\usr\\share\\julia\\stdlib\\v1.6\\LinearAlgebra\\src\\dense.jl:557\n\u001b[0m  exp(\u001b[91m::StridedMatrix{var\"#s832\"} where var\"#s832\"<:Union{Integer, Complex{var\"#s831\"} where var\"#s831\"<:Integer}\u001b[39m) at C:\\buildbot\\worker\\package_win64\\build\\usr\\share\\julia\\stdlib\\v1.6\\LinearAlgebra\\src\\dense.jl:558\n\u001b[0m  exp(\u001b[91m::StaticArrays.StaticMatrix{N, M, T} where {N, M, T}\u001b[39m) at C:\\Users\\cosku\\.julia\\packages\\StaticArrays\\0yhGP\\src\\expm.jl:1\n\u001b[0m  ...",
     "output_type": "error",
     "traceback": [
      "MethodError: no method matching exp(::LinearAlgebra.Adjoint{Float64, Vector{Float64}})\n\u001b[0mClosest candidates are:\n\u001b[0m  exp(\u001b[91m::StridedMatrix{var\"#s832\"} where var\"#s832\"<:Union{Float32, Float64, ComplexF32, ComplexF64}\u001b[39m) at C:\\buildbot\\worker\\package_win64\\build\\usr\\share\\julia\\stdlib\\v1.6\\LinearAlgebra\\src\\dense.jl:557\n\u001b[0m  exp(\u001b[91m::StridedMatrix{var\"#s832\"} where var\"#s832\"<:Union{Integer, Complex{var\"#s831\"} where var\"#s831\"<:Integer}\u001b[39m) at C:\\buildbot\\worker\\package_win64\\build\\usr\\share\\julia\\stdlib\\v1.6\\LinearAlgebra\\src\\dense.jl:558\n\u001b[0m  exp(\u001b[91m::StaticArrays.StaticMatrix{N, M, T} where {N, M, T}\u001b[39m) at C:\\Users\\cosku\\.julia\\packages\\StaticArrays\\0yhGP\\src\\expm.jl:1\n\u001b[0m  ...",
      "",
      "Stacktrace:",
      " [1] ^(#unused#::Irrational{:ℯ}, A::LinearAlgebra.Adjoint{Float64, Vector{Float64}})",
      "   @ LinearAlgebra C:\\buildbot\\worker\\package_win64\\build\\usr\\share\\julia\\stdlib\\v1.6\\LinearAlgebra\\src\\dense.jl:584",
      " [2] top-level scope",
      "   @ In[165]:1",
      " [3] eval",
      "   @ .\\boot.jl:360 [inlined]",
      " [4] include_string(mapexpr::typeof(REPL.softscope), mod::Module, code::String, filename::String)",
      "   @ Base .\\loading.jl:1094"
     ]
    }
   ],
   "source": [
    "- MathConstants.e^(X[1,:]'*zeros(6,1))"
   ]
  },
  {
   "cell_type": "code",
   "execution_count": 166,
   "id": "adverse-recycling",
   "metadata": {},
   "outputs": [
    {
     "data": {
      "text/plain": [
       "1×1 adjoint(::Vector{Float64}) with eltype Float64:\n",
       " 0.0"
      ]
     },
     "execution_count": 166,
     "metadata": {},
     "output_type": "execute_result"
    }
   ],
   "source": [
    "(X[1,:]'*zeros(6,1))"
   ]
  },
  {
   "cell_type": "code",
   "execution_count": 160,
   "id": "alert-provision",
   "metadata": {
    "scrolled": false
   },
   "outputs": [
    {
     "ename": "LoadError",
     "evalue": "MethodError: no method matching exp(::LinearAlgebra.Adjoint{Float64, Vector{Float64}})\n\u001b[0mClosest candidates are:\n\u001b[0m  exp(\u001b[91m::StridedMatrix{var\"#s832\"} where var\"#s832\"<:Union{Float32, Float64, ComplexF32, ComplexF64}\u001b[39m) at C:\\buildbot\\worker\\package_win64\\build\\usr\\share\\julia\\stdlib\\v1.6\\LinearAlgebra\\src\\dense.jl:557\n\u001b[0m  exp(\u001b[91m::StridedMatrix{var\"#s832\"} where var\"#s832\"<:Union{Integer, Complex{var\"#s831\"} where var\"#s831\"<:Integer}\u001b[39m) at C:\\buildbot\\worker\\package_win64\\build\\usr\\share\\julia\\stdlib\\v1.6\\LinearAlgebra\\src\\dense.jl:558\n\u001b[0m  exp(\u001b[91m::StaticArrays.StaticMatrix{N, M, T} where {N, M, T}\u001b[39m) at C:\\Users\\cosku\\.julia\\packages\\StaticArrays\\0yhGP\\src\\expm.jl:1\n\u001b[0m  ...",
     "output_type": "error",
     "traceback": [
      "MethodError: no method matching exp(::LinearAlgebra.Adjoint{Float64, Vector{Float64}})\n\u001b[0mClosest candidates are:\n\u001b[0m  exp(\u001b[91m::StridedMatrix{var\"#s832\"} where var\"#s832\"<:Union{Float32, Float64, ComplexF32, ComplexF64}\u001b[39m) at C:\\buildbot\\worker\\package_win64\\build\\usr\\share\\julia\\stdlib\\v1.6\\LinearAlgebra\\src\\dense.jl:557\n\u001b[0m  exp(\u001b[91m::StridedMatrix{var\"#s832\"} where var\"#s832\"<:Union{Integer, Complex{var\"#s831\"} where var\"#s831\"<:Integer}\u001b[39m) at C:\\buildbot\\worker\\package_win64\\build\\usr\\share\\julia\\stdlib\\v1.6\\LinearAlgebra\\src\\dense.jl:558\n\u001b[0m  exp(\u001b[91m::StaticArrays.StaticMatrix{N, M, T} where {N, M, T}\u001b[39m) at C:\\Users\\cosku\\.julia\\packages\\StaticArrays\\0yhGP\\src\\expm.jl:1\n\u001b[0m  ...",
      "",
      "Stacktrace:",
      " [1] LnL(bethas::Matrix{Float64})",
      "   @ Main .\\In[153]:7",
      " [2] value!!(obj::NonDifferentiable{Float64, Matrix{Float64}}, x::Matrix{Float64})",
      "   @ NLSolversBase ~\\.julia\\packages\\NLSolversBase\\geyh3\\src\\interface.jl:9",
      " [3] initial_state(method::NelderMead{Optim.AffineSimplexer, Optim.AdaptiveParameters}, options::Optim.Options{Float64, Nothing}, d::NonDifferentiable{Float64, Matrix{Float64}}, initial_x::Matrix{Float64})",
      "   @ Optim ~\\.julia\\packages\\Optim\\uwNqi\\src\\multivariate\\solvers\\zeroth_order\\nelder_mead.jl:171",
      " [4] optimize",
      "   @ ~\\.julia\\packages\\Optim\\uwNqi\\src\\multivariate\\optimize\\optimize.jl:35 [inlined]",
      " [5] optimize(f::Function, initial_x::Matrix{Float64}, method::NelderMead{Optim.AffineSimplexer, Optim.AdaptiveParameters}, options::Optim.Options{Float64, Nothing}; inplace::Bool, autodiff::Symbol)",
      "   @ Optim ~\\.julia\\packages\\Optim\\uwNqi\\src\\multivariate\\optimize\\interface.jl:142",
      " [6] optimize(f::Function, initial_x::Matrix{Float64}, method::NelderMead{Optim.AffineSimplexer, Optim.AdaptiveParameters}, options::Optim.Options{Float64, Nothing}) (repeats 2 times)",
      "   @ Optim ~\\.julia\\packages\\Optim\\uwNqi\\src\\multivariate\\optimize\\interface.jl:141",
      " [7] top-level scope",
      "   @ In[160]:1",
      " [8] eval",
      "   @ .\\boot.jl:360 [inlined]",
      " [9] include_string(mapexpr::typeof(REPL.softscope), mod::Module, code::String, filename::String)",
      "   @ Base .\\loading.jl:1094"
     ]
    }
   ],
   "source": [
    "result = optimize(LnL, zeros(6,1), NelderMead())"
   ]
  },
  {
   "cell_type": "code",
   "execution_count": 154,
   "id": "fallen-energy",
   "metadata": {},
   "outputs": [
    {
     "data": {
      "text/plain": [
       "ℯ = 2.7182818284590..."
      ]
     },
     "execution_count": 154,
     "metadata": {},
     "output_type": "execute_result"
    }
   ],
   "source": [
    "MathConstants.e"
   ]
  }
 ],
 "metadata": {
  "kernelspec": {
   "display_name": "Julia 1.6.0",
   "language": "julia",
   "name": "julia-1.6"
  },
  "language_info": {
   "file_extension": ".jl",
   "mimetype": "application/julia",
   "name": "julia",
   "version": "1.6.0"
  }
 },
 "nbformat": 4,
 "nbformat_minor": 5
}
