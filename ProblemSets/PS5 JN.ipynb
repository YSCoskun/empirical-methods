{
 "cells": [
  {
   "cell_type": "code",
   "execution_count": 91,
   "id": "adequate-atlas",
   "metadata": {},
   "outputs": [],
   "source": [
    "import Pkg"
   ]
  },
  {
   "cell_type": "code",
   "execution_count": 92,
   "id": "permanent-greenhouse",
   "metadata": {},
   "outputs": [],
   "source": [
    "# Pkg.add(\"Optim\")"
   ]
  },
  {
   "cell_type": "code",
   "execution_count": 93,
   "id": "angry-microphone",
   "metadata": {},
   "outputs": [],
   "source": [
    "# Pkg.add(\"CSV\")"
   ]
  },
  {
   "cell_type": "code",
   "execution_count": 94,
   "id": "cutting-bridal",
   "metadata": {},
   "outputs": [],
   "source": [
    "# Pkg.add(\"DataFrames\")"
   ]
  },
  {
   "cell_type": "code",
   "execution_count": 95,
   "id": "smart-liverpool",
   "metadata": {},
   "outputs": [],
   "source": [
    "# Pkg.add(\"DelimitedFiles\")"
   ]
  },
  {
   "cell_type": "code",
   "execution_count": 96,
   "id": "careful-cruise",
   "metadata": {},
   "outputs": [],
   "source": [
    "using CSV"
   ]
  },
  {
   "cell_type": "code",
   "execution_count": 97,
   "id": "decreased-motorcycle",
   "metadata": {},
   "outputs": [],
   "source": [
    "using DataFrames"
   ]
  },
  {
   "cell_type": "code",
   "execution_count": 98,
   "id": "exclusive-earthquake",
   "metadata": {},
   "outputs": [],
   "source": [
    "using DelimitedFiles"
   ]
  },
  {
   "cell_type": "code",
   "execution_count": 99,
   "id": "vital-variation",
   "metadata": {
    "scrolled": true
   },
   "outputs": [],
   "source": [
    "# m = CSV.read(\"Xfiles2.csv\", header=0, delim=';') |> Matrix{Float64}\n"
   ]
  },
  {
   "cell_type": "code",
   "execution_count": 100,
   "id": "single-addition",
   "metadata": {
    "scrolled": true
   },
   "outputs": [],
   "source": [
    "# m = Matrix{Float64}(CSV.read(\"C:/Users/cosku/Desktop/Xfiles2.csv\", header=0, delim=';'))"
   ]
  },
  {
   "cell_type": "code",
   "execution_count": 101,
   "id": "subtle-pearl",
   "metadata": {},
   "outputs": [],
   "source": [
    "X = readdlm(\"C:/Users/cosku/Desktop/Xfiles2.csv\", ';', Float64);"
   ]
  },
  {
   "cell_type": "code",
   "execution_count": 102,
   "id": "average-biology",
   "metadata": {},
   "outputs": [],
   "source": [
    "y = readdlm(\"C:/Users/cosku/Desktop/Yfiles2.csv\", ';', Float64);"
   ]
  },
  {
   "cell_type": "code",
   "execution_count": 103,
   "id": "dominican-hours",
   "metadata": {},
   "outputs": [],
   "source": [
    "b0 = 0;b1 = 0;b2 = 0;b3 = 0;b4 = 0;b5 = 0;"
   ]
  },
  {
   "cell_type": "code",
   "execution_count": 104,
   "id": "micro-deputy",
   "metadata": {
    "scrolled": true
   },
   "outputs": [],
   "source": [
    "Betha = [b0 b1 b2 b3 b4 b5];"
   ]
  },
  {
   "cell_type": "code",
   "execution_count": null,
   "id": "common-helmet",
   "metadata": {},
   "outputs": [],
   "source": []
  },
  {
   "cell_type": "code",
   "execution_count": null,
   "id": "random-ontario",
   "metadata": {},
   "outputs": [],
   "source": []
  },
  {
   "cell_type": "code",
   "execution_count": null,
   "id": "baking-notebook",
   "metadata": {},
   "outputs": [],
   "source": []
  },
  {
   "cell_type": "code",
   "execution_count": null,
   "id": "temporal-poetry",
   "metadata": {},
   "outputs": [],
   "source": []
  }
 ],
 "metadata": {
  "kernelspec": {
   "display_name": "Julia 1.6.0",
   "language": "julia",
   "name": "julia-1.6"
  },
  "language_info": {
   "file_extension": ".jl",
   "mimetype": "application/julia",
   "name": "julia",
   "version": "1.6.0"
  }
 },
 "nbformat": 4,
 "nbformat_minor": 5
}
