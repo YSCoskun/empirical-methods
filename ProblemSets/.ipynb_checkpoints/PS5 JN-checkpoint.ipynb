{
 "cells": [
  {
   "cell_type": "code",
   "execution_count": 96,
   "id": "posted-defendant",
   "metadata": {},
   "outputs": [],
   "source": [
    "import Pkg"
   ]
  },
  {
   "cell_type": "code",
   "execution_count": 97,
   "id": "thousand-flashing",
   "metadata": {},
   "outputs": [],
   "source": [
    "# Pkg.add(\"Optim\")"
   ]
  },
  {
   "cell_type": "code",
   "execution_count": 99,
   "id": "entertaining-fisher",
   "metadata": {},
   "outputs": [],
   "source": [
    "# Pkg.add(\"DelimitedFiles\")"
   ]
  },
  {
   "cell_type": "code",
   "execution_count": 101,
   "id": "special-monitoring",
   "metadata": {},
   "outputs": [],
   "source": [
    "using DelimitedFiles"
   ]
  },
  {
   "cell_type": "code",
   "execution_count": 102,
   "id": "systematic-infrastructure",
   "metadata": {},
   "outputs": [],
   "source": [
    "using Optim"
   ]
  },
  {
   "cell_type": "code",
   "execution_count": 103,
   "id": "global-prague",
   "metadata": {},
   "outputs": [],
   "source": [
    "X = readdlm(\"C:/Users/cosku/Desktop/Xfiles2.csv\", ';', Float64);"
   ]
  },
  {
   "cell_type": "code",
   "execution_count": 104,
   "id": "finnish-atlanta",
   "metadata": {},
   "outputs": [],
   "source": [
    "Y = readdlm(\"C:/Users/cosku/Desktop/Yfiles2.csv\", ';', Float64);"
   ]
  },
  {
   "cell_type": "code",
   "execution_count": 105,
   "id": "express-automation",
   "metadata": {},
   "outputs": [
    {
     "data": {
      "text/plain": [
       "LnL (generic function with 2 methods)"
      ]
     },
     "execution_count": 105,
     "metadata": {},
     "output_type": "execute_result"
    }
   ],
   "source": [
    "function LnL(bethas::Vector{Float64})\n",
    "    sum = 0\n",
    "    for i=1:length(Y)\n",
    "        sum += -exp(X[i,:]'*bethas) + Y[i] * X[i,:]' * bethas - log(factorial(Y[i]))\n",
    "    end\n",
    "    return -sum;\n",
    "end"
   ]
  },
  {
   "cell_type": "code",
   "execution_count": 106,
   "id": "alert-provision",
   "metadata": {
    "scrolled": false
   },
   "outputs": [
    {
     "data": {
      "text/plain": [
       " * Status: success\n",
       "\n",
       " * Candidate solution\n",
       "    Final objective value:     1.427037e+03\n",
       "\n",
       " * Found with\n",
       "    Algorithm:     Nelder-Mead\n",
       "\n",
       " * Convergence measures\n",
       "    √(Σ(yᵢ-ȳ)²)/n ≤ 1.0e-08\n",
       "\n",
       " * Work counters\n",
       "    Seconds run:   0  (vs limit Inf)\n",
       "    Iterations:    408\n",
       "    f(x) calls:    660\n"
      ]
     },
     "execution_count": 106,
     "metadata": {},
     "output_type": "execute_result"
    }
   ],
   "source": [
    "result = optimize(LnL, zeros(6), NelderMead())"
   ]
  },
  {
   "cell_type": "code",
   "execution_count": 107,
   "id": "fallen-energy",
   "metadata": {},
   "outputs": [],
   "source": [
    "fieldnames(typeof(result));"
   ]
  },
  {
   "cell_type": "code",
   "execution_count": 108,
   "id": "sunrise-frank",
   "metadata": {},
   "outputs": [
    {
     "data": {
      "text/plain": [
       "1427.0371769118456"
      ]
     },
     "execution_count": 108,
     "metadata": {},
     "output_type": "execute_result"
    }
   ],
   "source": [
    "max_val_loglikelihood_nm = result.minimum"
   ]
  },
  {
   "cell_type": "code",
   "execution_count": 109,
   "id": "ordinary-bottle",
   "metadata": {},
   "outputs": [
    {
     "data": {
      "text/plain": [
       "6-element Vector{Float64}:\n",
       "  2.5339014771541692\n",
       " -0.03225537174807412\n",
       "  0.11569857858474339\n",
       " -0.3540359087242927\n",
       "  0.07982798904201631\n",
       " -0.4094415617875796"
      ]
     },
     "execution_count": 109,
     "metadata": {},
     "output_type": "execute_result"
    }
   ],
   "source": [
    "betha_nm = result.minimizer"
   ]
  },
  {
   "cell_type": "code",
   "execution_count": 110,
   "id": "selective-garden",
   "metadata": {},
   "outputs": [
    {
     "data": {
      "text/plain": [
       " * Status: success\n",
       "\n",
       " * Candidate solution\n",
       "    Final objective value:     1.427037e+03\n",
       "\n",
       " * Found with\n",
       "    Algorithm:     BFGS\n",
       "\n",
       " * Convergence measures\n",
       "    |x - x'|               = 0.00e+00 ≤ 0.0e+00\n",
       "    |x - x'|/|x'|          = 0.00e+00 ≤ 0.0e+00\n",
       "    |f(x) - f(x')|         = 0.00e+00 ≤ 0.0e+00\n",
       "    |f(x) - f(x')|/|f(x')| = 0.00e+00 ≤ 0.0e+00\n",
       "    |g(x)|                 = 1.31e-07 ≰ 1.0e-08\n",
       "\n",
       " * Work counters\n",
       "    Seconds run:   1  (vs limit Inf)\n",
       "    Iterations:    30\n",
       "    f(x) calls:    129\n",
       "    ∇f(x) calls:   129\n"
      ]
     },
     "execution_count": 110,
     "metadata": {},
     "output_type": "execute_result"
    }
   ],
   "source": [
    "result = optimize(LnL, zeros(6), BFGS())"
   ]
  },
  {
   "cell_type": "code",
   "execution_count": 111,
   "id": "satisfactory-presence",
   "metadata": {},
   "outputs": [
    {
     "data": {
      "text/plain": [
       "1427.0371769092526"
      ]
     },
     "execution_count": 111,
     "metadata": {},
     "output_type": "execute_result"
    }
   ],
   "source": [
    "max_val_loglikelihood_bfgs = result.minimum"
   ]
  },
  {
   "cell_type": "code",
   "execution_count": 112,
   "id": "exclusive-carol",
   "metadata": {},
   "outputs": [
    {
     "data": {
      "text/plain": [
       "6-element Vector{Float64}:\n",
       "  2.5339054447306473\n",
       " -0.032255306032090404\n",
       "  0.1156984416969696\n",
       " -0.35403713793915986\n",
       "  0.0798282476451521\n",
       " -0.40944272467129467"
      ]
     },
     "execution_count": 112,
     "metadata": {},
     "output_type": "execute_result"
    }
   ],
   "source": [
    "betha_bfgs = result.minimizer"
   ]
  },
  {
   "cell_type": "code",
   "execution_count": 113,
   "id": "paperback-impact",
   "metadata": {},
   "outputs": [
    {
     "data": {
      "text/plain": [
       " * Status: success\n",
       "\n",
       " * Candidate solution\n",
       "    Final objective value:     1.427037e+03\n",
       "\n",
       " * Found with\n",
       "    Algorithm:     L-BFGS\n",
       "\n",
       " * Convergence measures\n",
       "    |x - x'|               = 6.55e-12 ≰ 0.0e+00\n",
       "    |x - x'|/|x'|          = 2.58e-12 ≰ 0.0e+00\n",
       "    |f(x) - f(x')|         = 0.00e+00 ≤ 0.0e+00\n",
       "    |f(x) - f(x')|/|f(x')| = 0.00e+00 ≤ 0.0e+00\n",
       "    |g(x)|                 = 1.50e-07 ≰ 1.0e-08\n",
       "\n",
       " * Work counters\n",
       "    Seconds run:   3  (vs limit Inf)\n",
       "    Iterations:    89\n",
       "    f(x) calls:    270\n",
       "    ∇f(x) calls:   270\n"
      ]
     },
     "execution_count": 113,
     "metadata": {},
     "output_type": "execute_result"
    }
   ],
   "source": [
    "result = optimize(LnL, zeros(6), LBFGS())"
   ]
  },
  {
   "cell_type": "code",
   "execution_count": 114,
   "id": "negative-conservation",
   "metadata": {},
   "outputs": [
    {
     "data": {
      "text/plain": [
       "1427.037176909253"
      ]
     },
     "execution_count": 114,
     "metadata": {},
     "output_type": "execute_result"
    }
   ],
   "source": [
    "max_val_loglikelihood_lbfgs = result.minimum"
   ]
  },
  {
   "cell_type": "code",
   "execution_count": 115,
   "id": "coastal-assignment",
   "metadata": {},
   "outputs": [
    {
     "data": {
      "text/plain": [
       "6-element Vector{Float64}:\n",
       "  2.533905444749026\n",
       " -0.03225530603194564\n",
       "  0.11569844170727965\n",
       " -0.35403713798689235\n",
       "  0.07982824761986457\n",
       " -0.4094427246400607"
      ]
     },
     "execution_count": 115,
     "metadata": {},
     "output_type": "execute_result"
    }
   ],
   "source": [
    "betha_lbfgs = result.minimizer"
   ]
  },
  {
   "cell_type": "code",
   "execution_count": null,
   "id": "medieval-driver",
   "metadata": {},
   "outputs": [],
   "source": []
  },
  {
   "cell_type": "code",
   "execution_count": null,
   "id": "italic-priority",
   "metadata": {},
   "outputs": [],
   "source": []
  },
  {
   "cell_type": "code",
   "execution_count": null,
   "id": "previous-astronomy",
   "metadata": {},
   "outputs": [],
   "source": []
  },
  {
   "cell_type": "code",
   "execution_count": null,
   "id": "acoustic-assignment",
   "metadata": {},
   "outputs": [],
   "source": []
  },
  {
   "cell_type": "code",
   "execution_count": null,
   "id": "computational-portfolio",
   "metadata": {},
   "outputs": [],
   "source": []
  }
 ],
 "metadata": {
  "kernelspec": {
   "display_name": "Julia 1.6.0",
   "language": "julia",
   "name": "julia-1.6"
  },
  "language_info": {
   "file_extension": ".jl",
   "mimetype": "application/julia",
   "name": "julia",
   "version": "1.6.0"
  }
 },
 "nbformat": 4,
 "nbformat_minor": 5
}
